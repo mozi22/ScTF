{
 "cells": [
  {
   "cell_type": "code",
   "execution_count": 2,
   "metadata": {
    "collapsed": true
   },
   "outputs": [],
   "source": [
    "import os"
   ]
  },
  {
   "cell_type": "code",
   "execution_count": 5,
   "metadata": {},
   "outputs": [
    {
     "name": "stdout",
     "output_type": "stream",
     "text": [
      "sleeping_2\n",
      "alley_1\n",
      "temple_3\n",
      "ambush_6\n",
      "bamboo_1\n",
      "alley_2\n",
      "bandage_1\n",
      "shaman_2\n",
      "sleeping_1\n",
      "bamboo_2\n",
      "ambush_5\n",
      "temple_2\n",
      "cave_4\n",
      "ambush_7\n",
      "market_6\n",
      "ambush_4\n",
      "market_2\n",
      "cave_2\n",
      "bandage_2\n",
      "mountain_1\n",
      "ambush_2\n",
      "market_5\n",
      "shaman_3\n"
     ]
    }
   ],
   "source": [
    "for filename in os.listdir('/home/muazzam/Downloads/training/albedo'):\n",
    "    print(filename)"
   ]
  },
  {
   "cell_type": "code",
   "execution_count": null,
   "metadata": {
    "collapsed": true
   },
   "outputs": [],
   "source": []
  }
 ],
 "metadata": {
  "kernelspec": {
   "display_name": "Python 3",
   "language": "python",
   "name": "python3"
  },
  "language_info": {
   "codemirror_mode": {
    "name": "ipython",
    "version": 3
   },
   "file_extension": ".py",
   "mimetype": "text/x-python",
   "name": "python",
   "nbconvert_exporter": "python",
   "pygments_lexer": "ipython3",
   "version": "3.6.3"
  }
 },
 "nbformat": 4,
 "nbformat_minor": 2
}
